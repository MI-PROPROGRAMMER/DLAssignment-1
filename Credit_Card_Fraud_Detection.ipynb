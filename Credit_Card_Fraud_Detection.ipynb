import numpy as np
import pandas as pd
import tensorflow as tf
import matplotlib.pyplot as plt
from tensorflow.keras.models import Sequential
from tensorflow.keras import layers
from tensorflow.keras.regularizers import l2

from google.colab import files

uploaded = files.upload()
data = pd.read_csv("creditcard.csv")

data.isnull().sum()
data.head()
data.tail()
data.shape
data.info()
y = data['Class']
x_train = data[:142400]
x_test = data[142400:227840]
x_val = data[227840:]

x_train.shape
y_train = y[:142400]
y_test = y[142400:227840]
y_val = y[227840:]

y_train.shape
mean = x_train.mean()
std = x_train.std()

x_train -= mean
x_train /= std

x_test -= mean
x_test  /= std
x_train.head(2)
x_test.head(2)

model = Sequential()
model.add(layers.Dense(10, activation='relu', kernel_regularizer=l2(0.001), input_shape=(x_train.shape[1],)))
model.add(layers.Dense(8, activation='relu', kernel_regularizer=l2(0.001)))
model.add(layers.Dense(1, activation='sigmoid'))

model.compile(optimizer='adam', loss='binary_crossentropy', metrics='accuracy')

network_history = model.fit(x_train, y_train, epochs=100, batch_size=500, validation_data=(x_val, y_val))

train_loss = network_history.history['loss']

val_loss = network_history.history['val_loss']
epochs = range(1,51)
model.predict(x_test)
model.evaluate(x_test, y_test)




