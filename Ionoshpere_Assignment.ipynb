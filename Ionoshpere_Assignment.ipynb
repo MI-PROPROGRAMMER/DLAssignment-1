import numpy as np
import pandas as pd

from google.colab import files

uploaded = files.upload()

data = pd.read_csv('ionosphere_data.csv')
data.head()
data.tail()
data.describe()
data.info()
data.isnull().sum()
data.feature2

# droping feature2 because it is on no value
data.drop(columns='feature2', inplace=True)

data.label.value_counts()
replace_values = {'label':{'g':0, 'b':1}}
data = data.replace(replace_values)
data = data.sample(frac=1)
print(data)
y = data.label
x = data.drop(columns='label')
y
x_train
y_train
model = Sequential()

model.add(layers.Dense(16, activation='relu', kernel_regularizer = regularizers.l2(0.001),  input_shape=(x_train.shape[1],)))
model.add(layers.Dense(8, activation='relu' , kernel_regularizer = regularizers.l2(0.001)))
model.add(layers.Dense(4, activation='relu' , kernel_regularizer = regularizers.l2(0.001)))
model.add(layers.Dense(1, activation='sigmoid'))

model.compile(optimizer='adam', loss='binary_crossentropy', metrics='accuracy')

model.fit(x_train, y_train, epochs=100, batch_size=8)

predict = model.predict(x_test)
model.evaluate(x_test, y_test)
predict.shape
predict=predict.reshape(141)
output = pd.DataFrame({'Actual': y_test})
output['prediction'] = predict
output.reset_index(inplace=True)
output



