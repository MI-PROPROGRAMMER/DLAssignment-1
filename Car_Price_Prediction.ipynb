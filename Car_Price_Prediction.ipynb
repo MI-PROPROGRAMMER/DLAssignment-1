import pandas as pd
import numpy as np
import tensorflow as tf
import matplotlib.pyplot as plt
from sklearn.model_selection import train_test_split
from tensorflow.keras.models import Sequential
from tensorflow.keras.layers import Dense 
from tensorflow.keras import regularizers

from google.colab import files
uploaded = files.upload()
data = pd.read_csv("CarPrice_Assignment.csv")
data.head()
data.shape
data.info()

data1 = data[['horsepower','boreratio','enginesize','curbweight','carwidth','carlength',
              'wheelbase','drivewheel','price','enginelocation']]
bool_data = data.isnull().sum()
x = (data1.loc[:, data1.columns != 'price'])
y = (data1.loc[:, data1.columns == 'price'])
x_train, x_test, y_train, y_test = train_test_split(x, y, test_size=0.30, random_state=42)
print(y_train.shape)

x_train.head()
x_train.drop(columns='drivewheel', inplace=True)
x_train.drop(columns='enginelocation', inplace=True)

model = Sequential()
model.add(tf.keras.layers.Dense(64, activation='relu'))
model.add(tf.keras.layers.Dense(10, activation='relu'))
model.add(tf.keras.layers.Dense(8, activation='relu'))
model.add(tf.keras.layers.Dense(6, activation='relu'))
model.add(tf.keras.layers.Dense(1, activation='relu'))

model.compile(optimizer='rmsprop', loss='mse', metrics=['mae'])

model.fit(x_train, y_train,epochs=100)

y_pred = model.predict(x_test)
